{
 "cells": [
  {
   "cell_type": "markdown",
   "id": "64979231",
   "metadata": {},
   "source": [
    "## 1 - Packages"
   ]
  },
  {
   "cell_type": "code",
   "execution_count": 5,
   "id": "a822194c",
   "metadata": {},
   "outputs": [],
   "source": [
    "import numpy as np\n",
    "import h5py\n",
    "import matplotlib.pyplot as plt\n",
    "from scipy.misc import derivative\n",
    "from tensorflow import keras\n",
    "import sklearn\n",
    "from sklearn import datasets\n",
    "\n",
    "plt.rcParams['figure.figsize'] = (5.0, 4.0) # set default size of plots\n",
    "plt.rcParams['image.interpolation'] = 'nearest'\n",
    "plt.rcParams['image.cmap'] = 'gray'"
   ]
  },
  {
   "cell_type": "code",
   "execution_count": 3,
   "id": "f33ae773",
   "metadata": {},
   "outputs": [],
   "source": [
    "def relu(z):\n",
    "    cache = z\n",
    "    A = np.maximum(0, z)\n",
    "    return A, cache\n",
    "                \n",
    "def relu_derivate(dA, activation_cache):\n",
    "    z=activation_cache \n",
    "    dZ = np.array(dA, copy=True)\n",
    "    dZ[z <= 0] = 0\n",
    "    return dZ"
   ]
  },
  {
   "cell_type": "code",
   "execution_count": 4,
   "id": "41935f17",
   "metadata": {},
   "outputs": [],
   "source": [
    "def sigmoid(z):\n",
    "    cache = z\n",
    "    A=1/(1+np.exp(-z))\n",
    "    return A, cache\n",
    "\n",
    "def sigmoid_derivate(dA, activation_cache):\n",
    "    z = activation_cache \n",
    "    s = 1/(1+np.exp(-z))\n",
    "    dZ = dA * s * (1-s)\n",
    "    return dZ\n",
    "    "
   ]
  },
  {
   "cell_type": "code",
   "execution_count": 5,
   "id": "66cbe235",
   "metadata": {},
   "outputs": [],
   "source": [
    "def initialisation(dimension_layer):\n",
    "    parameters = {}\n",
    "    L = len(dimension_layer)\n",
    "    for l in range(1, L):\n",
    "        ####question pq W1.shape ==> (4,13)\n",
    "        parameters['W' + str(l)] = np.random.randn(dimension_layer[l], dimension_layer[l-1])*0.0251\n",
    "        parameters['b' + str(l)] = np.zeros((dimension_layer[l],1))\n",
    "    return parameters"
   ]
  },
  {
   "cell_type": "code",
   "execution_count": 6,
   "id": "88c4d3f9",
   "metadata": {},
   "outputs": [],
   "source": [
    "def lineaire_forward(A, W,b):\n",
    "    Z = np.dot(W,A)+b\n",
    "    assert(Z.shape == (W.shape[0], A.shape[1]))\n",
    "    \n",
    "    cache = (A, W, b)\n",
    "    \n",
    "    return Z, cache"
   ]
  },
  {
   "cell_type": "code",
   "execution_count": 7,
   "id": "5d2ad28f",
   "metadata": {},
   "outputs": [],
   "source": [
    "def linear_activation_forward(A_prev, W, b, activation):\n",
    "    \n",
    "    if activation == \"sigmoid\":\n",
    "        Z, linear_cache=lineaire_forward(A_prev,W,b)\n",
    "        A, activation_cache=sigmoid(Z)\n",
    "        \n",
    "    elif activation == \"relu\" :\n",
    "        Z, linear_cache = lineaire_forward(A_prev,W,b)\n",
    "        A, activation_cache=relu(Z)\n",
    "        \n",
    "    cache = (linear_cache, activation_cache)\n",
    "\n",
    "    return A, cache"
   ]
  },
  {
   "cell_type": "code",
   "execution_count": 8,
   "id": "491236b2",
   "metadata": {},
   "outputs": [],
   "source": [
    "def model_forward(X, parameters):\n",
    "    caches = []\n",
    "    A = X\n",
    "    L = len(parameters) // 2\n",
    "    \n",
    "    for l in range(1, L):\n",
    "        A_prev = A \n",
    "        A,cache = linear_activation_forward(A_prev, parameters['W' + str(l)], parameters['b'+str(l)], activation=\"relu\")\n",
    "        caches.append(cache)\n",
    "        \n",
    "    AL, cache = linear_activation_forward(A, parameters['W'+str(L)] , parameters['b'+str(L)], activation=\"sigmoid\")\n",
    "    \n",
    "    caches.append(cache)\n",
    "   \n",
    "    \n",
    "    return AL, caches"
   ]
  },
  {
   "cell_type": "code",
   "execution_count": 9,
   "id": "b8796e00",
   "metadata": {},
   "outputs": [],
   "source": [
    "def calcule_cost(AL, Y):\n",
    "    m = Y.shape[0]\n",
    "    cost=(-1/m) *np.sum((Y*np.log(AL)+(1-Y)*np.log(1-AL)))\n",
    "    cost = np.squeeze(cost)\n",
    "    return cost"
   ]
  },
  {
   "cell_type": "code",
   "execution_count": 10,
   "id": "1d3753c7",
   "metadata": {},
   "outputs": [],
   "source": [
    "def linear_backword(dZ, cache):\n",
    "    A_prev, W, b = cache\n",
    "    m = A_prev.shape[1]\n",
    "    \n",
    "    dW=1/m*(np.dot(dZ,A_prev.T))\n",
    "    db=1/m*(np.sum(dZ,axis=1,keepdims=True))\n",
    "    dA_prev=np.dot(W.T,dZ)\n",
    "    \n",
    "    return dA_prev, dW, db"
   ]
  },
  {
   "cell_type": "code",
   "execution_count": 11,
   "id": "9ab07d59",
   "metadata": {},
   "outputs": [],
   "source": [
    "def linear_activation_backward(dA, cache, activation):\n",
    "    \n",
    "    linear_cache, activation_cache= cache\n",
    "    \n",
    "    if activation == \"relu\":\n",
    "            \n",
    "        dZ=relu_derivate(dA,activation_cache)\n",
    "        dA_prev, dW, db = linear_backword(dZ, linear_cache)\n",
    "        \n",
    "        \n",
    "    elif activation == \"sigmoid\":\n",
    "\n",
    "        dZ=sigmoid_derivate(dA,activation_cache)\n",
    "        dA_prev, dW, db = linear_backword(dZ, linear_cache)\n",
    "        \n",
    "    return dA_prev, dW, db"
   ]
  },
  {
   "cell_type": "code",
   "execution_count": 12,
   "id": "eb0b1314",
   "metadata": {},
   "outputs": [],
   "source": [
    "def model_backward(AL, Y, caches):\n",
    "    \n",
    "    gradients = {}\n",
    "    L = len(caches) #le nombre des couches layers\n",
    "    m = AL.shape[1]\n",
    "    #Y = Y.reshape(AL.shape)\n",
    "    \n",
    "    dAL = - (np.divide(Y, AL+0.01) - np.divide(1 - Y, (1 - AL)+0.01))\n",
    "    \n",
    "    current_cache=caches[L-1]\n",
    "    \n",
    "    dA_prev, dW, db = linear_activation_backward(dAL, current_cache,activation=\"sigmoid\")\n",
    "    \n",
    "    gradients[\"dA\"+ str(L-1)]=dA_prev\n",
    "    gradients[\"dW\"+ str(L)]=dW\n",
    "    gradients[\"db\"+ str(L)]=db\n",
    "    \n",
    "    for l in reversed(range(L-1)):\n",
    "        \n",
    "        current_cache=caches[l]\n",
    "        dA_prev, dW, db = linear_activation_backward(gradients[\"dA\"+ str(l+1)], current_cache, activation = \"relu\")\n",
    "    \n",
    "        gradients[\"dA\"+ str(l)]=dA_prev\n",
    "        gradients[\"dW\"+ str(l+1)]=dW\n",
    "        gradients[\"db\"+ str(l+1)]=db\n",
    "    \n",
    "    return gradients"
   ]
  },
  {
   "cell_type": "code",
   "execution_count": 13,
   "id": "55b7577c",
   "metadata": {},
   "outputs": [],
   "source": [
    "def miseajours_poids(parameters, gradients, learning_rate=0.01):\n",
    "    \n",
    "    L = len(parameters) // 2\n",
    "    \n",
    "    for l in range(L):\n",
    "        parameters[\"W\"+ str(l+1)]=parameters[\"W\"+ str(l+1)]-learning_rate*gradients[\"dW\"+ str(l+1)]\n",
    "        parameters[\"b\"+ str(l+1)]=parameters[\"b\"+ str(l+1)]-learning_rate*gradients[\"db\"+ str(l+1)]\n",
    "\n",
    "    return parameters"
   ]
  },
  {
   "cell_type": "code",
   "execution_count": 14,
   "id": "417e0a27",
   "metadata": {},
   "outputs": [],
   "source": [
    "def modelpredict(X, parameters):\n",
    "    ypred, caches = model_forward(X, parameters)\n",
    "    return ypred"
   ]
  },
  {
   "cell_type": "code",
   "execution_count": 29,
   "id": "62b33254",
   "metadata": {},
   "outputs": [],
   "source": [
    "from sklearn.model_selection import train_test_split\n",
    "from sklearn import datasets\n",
    "iris=datasets.load_iris()\n",
    "\n",
    "\n",
    "xtrain, xtest, ytrain, ytest = train_test_split(iris.data, iris.target)\n",
    "\n",
    "\n",
    "ytraint=ytrain.reshape(112,1)\n",
    "ytest=ytest.reshape(38,1)"
   ]
  },
  {
   "cell_type": "code",
   "execution_count": null,
   "id": "82cc7620",
   "metadata": {},
   "outputs": [],
   "source": []
  },
  {
   "cell_type": "code",
   "execution_count": 40,
   "id": "b0e29fb0",
   "metadata": {},
   "outputs": [],
   "source": [
    "##### determiner la dimension de reseau :\n",
    "dimension_reseau = [4,13,13,3]\n",
    "\n",
    "#####initialisation aléatoire :\n",
    "parameters=initialisation(dimension_reseau)\n",
    "\n",
    "######### prediction de Y par les parametre aléatoire :\n",
    "for i in range(xtrain.shape[0]):\n",
    "    \n",
    "    AL, caches = model_forward(xtrain[i].reshape(4,1), parameters)\n",
    "\n",
    "    gradients  = model_backward(AL, ytrain[i], caches)\n",
    "\n",
    "    parameters = miseajours_poids(parameters, gradients)"
   ]
  },
  {
   "cell_type": "code",
   "execution_count": null,
   "id": "3c100294",
   "metadata": {},
   "outputs": [],
   "source": []
  },
  {
   "cell_type": "code",
   "execution_count": null,
   "id": "e0901cbb",
   "metadata": {},
   "outputs": [],
   "source": []
  },
  {
   "cell_type": "code",
   "execution_count": null,
   "id": "5e3fd762",
   "metadata": {},
   "outputs": [],
   "source": []
  },
  {
   "cell_type": "code",
   "execution_count": null,
   "id": "e72a4242",
   "metadata": {},
   "outputs": [],
   "source": []
  },
  {
   "cell_type": "code",
   "execution_count": null,
   "id": "15091456",
   "metadata": {},
   "outputs": [],
   "source": []
  },
  {
   "cell_type": "code",
   "execution_count": null,
   "id": "4a8acc84",
   "metadata": {},
   "outputs": [],
   "source": []
  },
  {
   "cell_type": "code",
   "execution_count": 17,
   "id": "091f2c07",
   "metadata": {},
   "outputs": [
    {
     "data": {
      "text/plain": [
       "array([0.60578691, 0.60492619, 0.60469638, 0.60402531, 0.60587286,\n",
       "       0.60496999, 0.60513384, 0.60422791, 0.60603137, 0.60495534,\n",
       "       0.60535213, 0.6043194 , 0.60610238, 0.6048616 , 0.60551794,\n",
       "       0.60432865, 0.60629466, 0.60495711, 0.60575036, 0.60446658,\n",
       "       0.60588111, 0.60484337, 0.60533066, 0.60429974, 0.60583549,\n",
       "       0.60478504, 0.60521643, 0.60432732, 0.60594789, 0.60498937,\n",
       "       0.60534211, 0.60438529, 0.60600246, 0.6049333 , 0.60524685,\n",
       "       0.60427289, 0.60584253, 0.60495373, 0.60489583, 0.60416757,\n",
       "       0.60601238, 0.60497983, 0.60517699, 0.60423848, 0.60592781,\n",
       "       0.60500431, 0.60520885, 0.60419595, 0.60608536, 0.60490059,\n",
       "       0.60523965, 0.60422478, 0.60584073, 0.60489883, 0.60496799,\n",
       "       0.60412876, 0.6061655 , 0.60497232, 0.60573605, 0.60450215,\n",
       "       0.60611992, 0.60492611, 0.6052054 , 0.60427028, 0.60596156,\n",
       "       0.60498613, 0.60507231, 0.60415759, 0.60579502, 0.60491204,\n",
       "       0.60510823, 0.60419647, 0.60581979, 0.60484142, 0.60495635,\n",
       "       0.60413391, 0.6057667 , 0.60497212, 0.60469997, 0.60404233,\n",
       "       0.60601737, 0.60496459, 0.60508551, 0.60424766, 0.60589298,\n",
       "       0.60486943, 0.60498656, 0.60409691, 0.60599356, 0.6050794 ,\n",
       "       0.60506959, 0.60423587, 0.60585933, 0.6048416 , 0.60506922,\n",
       "       0.60421641, 0.6059315 , 0.6048966 , 0.60511108, 0.6041881 ,\n",
       "       0.60609183, 0.60479896, 0.60555083, 0.60435134, 0.60568854,\n",
       "       0.60507343, 0.60431226, 0.6038598 , 0.60603176, 0.60489772,\n",
       "       0.60550509, 0.60438637])"
      ]
     },
     "execution_count": 17,
     "metadata": {},
     "output_type": "execute_result"
    }
   ],
   "source": [
    "np.max(AL, axis=0)"
   ]
  },
  {
   "cell_type": "code",
   "execution_count": 242,
   "id": "5f3396d6",
   "metadata": {},
   "outputs": [
    {
     "data": {
      "text/plain": [
       "array([[0.46481084, 0.4650904 , 0.4648908 , 0.46513642, 0.46485988,\n",
       "        0.46509338, 0.46499887, 0.46520275, 0.46485884, 0.46507243,\n",
       "        0.46497592, 0.46522561, 0.46478619, 0.4650701 , 0.46487582,\n",
       "        0.4651444 , 0.46477157, 0.4650339 , 0.46486623, 0.46512509,\n",
       "        0.4647659 , 0.46504984, 0.46487835, 0.46511815, 0.4649202 ,\n",
       "        0.46500033, 0.46522468, 0.46527781, 0.46474246, 0.46503453,\n",
       "        0.4648671 , 0.46516716, 0.4647665 , 0.46502112, 0.46495128,\n",
       "        0.4651757 , 0.46480616, 0.46505955, 0.46493112, 0.46519215,\n",
       "        0.46484542, 0.46502024, 0.46510389, 0.46522323, 0.4648189 ,\n",
       "        0.46508185, 0.46484658, 0.46512887, 0.46481378, 0.46499082,\n",
       "        0.46511119, 0.46523753, 0.46490474, 0.4651255 , 0.46510507,\n",
       "        0.46523232, 0.4649161 , 0.46505068, 0.46520547, 0.46527293,\n",
       "        0.46490105, 0.46510417, 0.46502112, 0.46519872, 0.46495533,\n",
       "        0.46507598, 0.46512518, 0.46524156, 0.46492159, 0.46500614,\n",
       "        0.46522085, 0.46525684, 0.46489802, 0.46501764, 0.46518797,\n",
       "        0.4652863 , 0.46479752, 0.46497213, 0.46503895, 0.46519246,\n",
       "        0.4647954 , 0.46504312, 0.46486468, 0.46510614, 0.46484627,\n",
       "        0.46501413, 0.46509496, 0.46522743, 0.46485864, 0.46499063,\n",
       "        0.46525532, 0.46528622, 0.4648148 , 0.46505444, 0.46499018,\n",
       "        0.46520656, 0.46469954, 0.46501532, 0.46476212, 0.46507374,\n",
       "        0.46493154, 0.46502065, 0.46520006, 0.4652689 , 0.46482177,\n",
       "        0.46504921, 0.46492657, 0.46515371, 0.46491363, 0.4650425 ,\n",
       "        0.46519702, 0.46527724],\n",
       "       [0.46532129, 0.46531067, 0.46533115, 0.46532992, 0.46531162,\n",
       "        0.4653133 , 0.46531442, 0.46531343, 0.46531792, 0.46530773,\n",
       "        0.46530974, 0.46530999, 0.46530817, 0.46530731, 0.46531702,\n",
       "        0.46532325, 0.46532052, 0.46530856, 0.46531918, 0.46531324,\n",
       "        0.46531786, 0.46530777, 0.46531361, 0.46531416, 0.46530395,\n",
       "        0.46531345, 0.46527788, 0.46531291, 0.46533848, 0.46532183,\n",
       "        0.46533744, 0.46531544, 0.46531645, 0.46530418, 0.46533498,\n",
       "        0.46533201, 0.46530971, 0.46531547, 0.46531219, 0.46531241,\n",
       "        0.4653046 , 0.4653067 , 0.46532413, 0.46533419, 0.4653081 ,\n",
       "        0.46530677, 0.4653159 , 0.46532476, 0.46529085, 0.46530936,\n",
       "        0.46531443, 0.46532563, 0.46529746, 0.46530559, 0.46532359,\n",
       "        0.46533   , 0.46530578, 0.46531013, 0.46528209, 0.46530504,\n",
       "        0.46530922, 0.46530943, 0.4653014 , 0.46530926, 0.46531104,\n",
       "        0.46530952, 0.46535612, 0.46534417, 0.46531598, 0.46530477,\n",
       "        0.46533262, 0.46532572, 0.46531537, 0.46531418, 0.46528109,\n",
       "        0.46530224, 0.46529776, 0.46531835, 0.46539041, 0.46536379,\n",
       "        0.46531464, 0.46530766, 0.46530696, 0.46530438, 0.46530442,\n",
       "        0.46531378, 0.46533459, 0.46533816, 0.46531549, 0.46531405,\n",
       "        0.46528967, 0.46530919, 0.46531732, 0.46530502, 0.46532071,\n",
       "        0.46531424, 0.46529113, 0.4653023 , 0.46527556, 0.46530506,\n",
       "        0.46530744, 0.46531164, 0.46528766, 0.46530974, 0.46532436,\n",
       "        0.46531213, 0.46533791, 0.46532907, 0.46531753, 0.46531652,\n",
       "        0.46529111, 0.46531425],\n",
       "       [0.46511025, 0.46515438, 0.46513875, 0.46518983, 0.46508934,\n",
       "        0.46515273, 0.46512001, 0.46517141, 0.46509615, 0.46514487,\n",
       "        0.46511394, 0.46515635, 0.46507464, 0.46514794, 0.46509881,\n",
       "        0.4651754 , 0.46512908, 0.46514804, 0.46513883, 0.46517417,\n",
       "        0.46510812, 0.46514373, 0.4651142 , 0.46517161, 0.46511239,\n",
       "        0.46515156, 0.46511908, 0.4651788 , 0.46512861, 0.46517144,\n",
       "        0.46515536, 0.46516963, 0.46509814, 0.46514401, 0.46514168,\n",
       "        0.46519061, 0.4651236 , 0.46513887, 0.46518567, 0.46519346,\n",
       "        0.465117  , 0.46513161, 0.46512713, 0.46517748, 0.46509144,\n",
       "        0.46515207, 0.46511504, 0.46518094, 0.46508897, 0.46515122,\n",
       "        0.46506322, 0.46515263, 0.46510829, 0.46513578, 0.4651004 ,\n",
       "        0.46517564, 0.46511649, 0.46515879, 0.46508822, 0.46515425,\n",
       "        0.46510893, 0.4651321 , 0.46517424, 0.46519231, 0.46510304,\n",
       "        0.46514695, 0.4651368 , 0.46518873, 0.46511877, 0.46515247,\n",
       "        0.4650808 , 0.46516666, 0.46512726, 0.46515123, 0.46511824,\n",
       "        0.46515938, 0.46509004, 0.46516529, 0.46503614, 0.46514094,\n",
       "        0.46511127, 0.46516109, 0.46511931, 0.46516763, 0.46508628,\n",
       "        0.46514747, 0.46507024, 0.46515747, 0.4651337 , 0.46515303,\n",
       "        0.46508046, 0.46515703, 0.46513341, 0.46514145, 0.46518944,\n",
       "        0.46521592, 0.46509153, 0.46514546, 0.46511307, 0.46518069,\n",
       "        0.46511669, 0.46514047, 0.46513136, 0.46518363, 0.46510812,\n",
       "        0.46515205, 0.46512611, 0.4651748 , 0.46512223, 0.4651457 ,\n",
       "        0.46513264, 0.46518118]])"
      ]
     },
     "execution_count": 242,
     "metadata": {},
     "output_type": "execute_result"
    }
   ],
   "source": [
    "AL"
   ]
  },
  {
   "cell_type": "code",
   "execution_count": null,
   "id": "550b8441",
   "metadata": {},
   "outputs": [],
   "source": []
  },
  {
   "cell_type": "code",
   "execution_count": 230,
   "id": "984f643d",
   "metadata": {},
   "outputs": [],
   "source": [
    "ytrain=np.array(ytrain)\n",
    "ytest=np.array(ytest)\n",
    "\n",
    "for i in range(ytrain.shape[0]):\n",
    "        \n",
    "    if(ytrain[i]==1):\n",
    "        ytrain[i]=np.array([0.5])\n",
    "        \n",
    "    elif(ytrain[i]==2):\n",
    "        ytrain[i]=np.array([1])\n",
    "        \n",
    "for i in range(ytest.shape[0]):\n",
    "        \n",
    "    if(ytest[i]==1):\n",
    "        ytest[i]=np.array([0.5])\n",
    "        \n",
    "    elif(ytest[i]==2):\n",
    "        ytest[i]=np.array([1])"
   ]
  },
  {
   "cell_type": "code",
   "execution_count": 28,
   "id": "ec1e44f4",
   "metadata": {},
   "outputs": [],
   "source": [
    "for i in range(500):\n",
    "    AL, caches = model_forward(xtrain, parameters)\n",
    "    gradients  = model_backward(AL, ytrain, caches)\n",
    "    parameters_updated = miseajours_poids(parameters, gradients, learning_rate=0.01)"
   ]
  },
  {
   "cell_type": "code",
   "execution_count": 26,
   "id": "62668973",
   "metadata": {},
   "outputs": [
    {
     "name": "stdout",
     "output_type": "stream",
     "text": [
      "cost =  -1.6133406715432912\n"
     ]
    }
   ],
   "source": [
    "######### prediction de Y par les parametre aléatoire :\n",
    "AL, caches = model_forward(xtrain, parameters_updated)\n",
    "\n",
    "##### verifier l'erreur combien :\n",
    "cout = calcule_cost(AL, ytrain)\n",
    "print(\"cost = \",cout )"
   ]
  },
  {
   "cell_type": "code",
   "execution_count": 359,
   "id": "a3a8f34b",
   "metadata": {},
   "outputs": [
    {
     "data": {
      "text/plain": [
       "array([6.8, 2.8, 4.8, 1.4])"
      ]
     },
     "execution_count": 359,
     "metadata": {},
     "output_type": "execute_result"
    }
   ],
   "source": [
    "xtrain[0]"
   ]
  },
  {
   "cell_type": "code",
   "execution_count": 327,
   "id": "ee256167",
   "metadata": {},
   "outputs": [],
   "source": [
    "ypred=modelpredict(xtest, parameters)"
   ]
  },
  {
   "cell_type": "code",
   "execution_count": 328,
   "id": "3fd525eb",
   "metadata": {},
   "outputs": [
    {
     "name": "stdout",
     "output_type": "stream",
     "text": [
      "cout test =  0.6931917468877367\n"
     ]
    }
   ],
   "source": [
    "cout_test=calcule_cost(ypred, ytest)\n",
    "print(\"cout test = \",cout_test )"
   ]
  },
  {
   "cell_type": "code",
   "execution_count": 337,
   "id": "2cb3d292",
   "metadata": {},
   "outputs": [],
   "source": [
    "ypred=modelpredict(xtest, parameters_updated)"
   ]
  },
  {
   "cell_type": "code",
   "execution_count": 338,
   "id": "f0c759b1",
   "metadata": {},
   "outputs": [
    {
     "name": "stdout",
     "output_type": "stream",
     "text": [
      "cout test =  nan\n"
     ]
    }
   ],
   "source": [
    "cout_test=calcule_cost(ypred, ytest)\n",
    "print(\"cout test = \",cout_test )"
   ]
  },
  {
   "cell_type": "code",
   "execution_count": 343,
   "id": "988f19ea",
   "metadata": {},
   "outputs": [
    {
     "data": {
      "text/plain": [
       "array([7.3, 2.9, 6.3, 1.8])"
      ]
     },
     "execution_count": 343,
     "metadata": {},
     "output_type": "execute_result"
    }
   ],
   "source": [
    "xtrain[0]"
   ]
  },
  {
   "cell_type": "code",
   "execution_count": 344,
   "id": "942e4a99",
   "metadata": {},
   "outputs": [
    {
     "data": {
      "text/plain": [
       "2"
      ]
     },
     "execution_count": 344,
     "metadata": {},
     "output_type": "execute_result"
    }
   ],
   "source": [
    "ytrain[0]"
   ]
  },
  {
   "cell_type": "code",
   "execution_count": null,
   "id": "4283bcac",
   "metadata": {},
   "outputs": [],
   "source": []
  },
  {
   "cell_type": "code",
   "execution_count": null,
   "id": "3f8c7149",
   "metadata": {},
   "outputs": [],
   "source": []
  },
  {
   "cell_type": "code",
   "execution_count": 331,
   "id": "93d9e799",
   "metadata": {},
   "outputs": [
    {
     "data": {
      "text/plain": [
       "9"
      ]
     },
     "execution_count": 331,
     "metadata": {},
     "output_type": "execute_result"
    }
   ],
   "source": [
    "len(gradients)"
   ]
  },
  {
   "cell_type": "code",
   "execution_count": 332,
   "id": "13522c13",
   "metadata": {},
   "outputs": [
    {
     "data": {
      "text/plain": [
       "6"
      ]
     },
     "execution_count": 332,
     "metadata": {},
     "output_type": "execute_result"
    }
   ],
   "source": [
    "len(parameters)"
   ]
  },
  {
   "cell_type": "code",
   "execution_count": 276,
   "id": "fa170e23",
   "metadata": {},
   "outputs": [
    {
     "data": {
      "text/plain": [
       "3"
      ]
     },
     "execution_count": 276,
     "metadata": {},
     "output_type": "execute_result"
    }
   ],
   "source": [
    "len(caches)"
   ]
  },
  {
   "cell_type": "code",
   "execution_count": null,
   "id": "336ab615",
   "metadata": {},
   "outputs": [],
   "source": []
  },
  {
   "cell_type": "code",
   "execution_count": null,
   "id": "24da4276",
   "metadata": {},
   "outputs": [],
   "source": []
  },
  {
   "cell_type": "code",
   "execution_count": null,
   "id": "33c7f842",
   "metadata": {},
   "outputs": [],
   "source": []
  },
  {
   "cell_type": "code",
   "execution_count": 118,
   "id": "26bc1bdd",
   "metadata": {},
   "outputs": [
    {
     "data": {
      "text/plain": [
       "(4, 112)"
      ]
     },
     "execution_count": 118,
     "metadata": {},
     "output_type": "execute_result"
    }
   ],
   "source": [
    "xtrain.shape"
   ]
  },
  {
   "cell_type": "code",
   "execution_count": 123,
   "id": "663c0ebd",
   "metadata": {},
   "outputs": [
    {
     "data": {
      "text/plain": [
       "(13, 13)"
      ]
     },
     "execution_count": 123,
     "metadata": {},
     "output_type": "execute_result"
    }
   ],
   "source": [
    "parameters['W2'].shape"
   ]
  },
  {
   "cell_type": "code",
   "execution_count": 125,
   "id": "bf1904d9",
   "metadata": {},
   "outputs": [
    {
     "data": {
      "text/plain": [
       "1"
      ]
     },
     "execution_count": 125,
     "metadata": {},
     "output_type": "execute_result"
    }
   ],
   "source": [
    "dimension_reseau[-1]"
   ]
  },
  {
   "cell_type": "code",
   "execution_count": 1,
   "id": "b4c63d4d",
   "metadata": {},
   "outputs": [],
   "source": [
    "def load_dataset(DataNoise = 0.05, Visualize = False):\n",
    "    #np.random.seed(1)\n",
    "    train_X, train_Y = sklearn.datasets.make_circles(n_samples=300, noise=DataNoise)\n",
    "    #np.random.seed(2)\n",
    "    test_X, test_Y = sklearn.datasets.make_circles(n_samples=100, noise=DataNoise)\n",
    "    train_X = train_X.T\n",
    "    train_Y = train_Y.reshape((1, train_Y.shape[0]))\n",
    "    test_X = test_X.T\n",
    "    test_Y = test_Y.reshape((1, test_Y.shape[0]))\n",
    "    # Visualize the data\n",
    "    if Visualize == True:\n",
    "        axes = plt.gca()\n",
    "        axes.set_xlim([-1.5,1.5])\n",
    "        axes.set_ylim([-1.5,1.5])\n",
    "        plt.scatter(train_X[0, :], train_X[1, :], c=train_Y[0], s=40, cmap=plt.cm.Spectral)\n",
    "        plt.show()\n",
    "\n",
    "    return train_X, train_Y, test_X, test_Y"
   ]
  },
  {
   "cell_type": "code",
   "execution_count": 6,
   "id": "708ab4e5",
   "metadata": {},
   "outputs": [
    {
     "data": {
      "image/png": "[encoded data removed]",
      "text/plain": [
       "<Figure size 360x288 with 1 Axes>"
      ]
     },
     "metadata": {
      "needs_background": "light"
     },
     "output_type": "display_data"
    }
   ],
   "source": [
    "train_X, train_Y, test_X, test_Y = load_dataset(DataNoise = 0.15, Visualize = True)"
   ]
  },
  {
   "cell_type": "code",
   "execution_count": 7,
   "id": "986db8db",
   "metadata": {},
   "outputs": [
    {
     "data": {
      "text/plain": [
       "(2, 300)"
      ]
     },
     "execution_count": 7,
     "metadata": {},
     "output_type": "execute_result"
    }
   ],
   "source": [
    "train_X.shape"
   ]
  },
  {
   "cell_type": "code",
   "execution_count": 8,
   "id": "c2c2d99f",
   "metadata": {},
   "outputs": [
    {
     "data": {
      "text/plain": [
       "(1, 300)"
      ]
     },
     "execution_count": 8,
     "metadata": {},
     "output_type": "execute_result"
    }
   ],
   "source": [
    "train_Y.shape"
   ]
  },
  {
   "cell_type": "code",
   "execution_count": null,
   "id": "760b8867",
   "metadata": {},
   "outputs": [],
   "source": []
  }
 ],
 "metadata": {
  "kernelspec": {
   "display_name": "Python 3 (ipykernel)",
   "language": "python",
   "name": "python3"
  },
  "language_info": {
   "codemirror_mode": {
    "name": "ipython",
    "version": 3
   },
   "file_extension": ".py",
   "mimetype": "text/x-python",
   "name": "python",
   "nbconvert_exporter": "python",
   "pygments_lexer": "ipython3",
   "version": "3.9.7"
  }
 },
 "nbformat": 4,
 "nbformat_minor": 5
}
