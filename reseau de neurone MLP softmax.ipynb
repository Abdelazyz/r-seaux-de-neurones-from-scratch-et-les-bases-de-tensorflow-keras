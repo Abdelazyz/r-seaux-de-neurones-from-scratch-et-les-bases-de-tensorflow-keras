{
 "cells": [
  {
   "cell_type": "markdown",
   "id": "64979231",
   "metadata": {},
   "source": [
    "## 1 - Packages : Abdelazyz RKHISS"
   ]
  },
  {
   "cell_type": "code",
   "execution_count": 1,
   "id": "a822194c",
   "metadata": {},
   "outputs": [],
   "source": [
    "import numpy as np\n",
    "import h5py\n",
    "import matplotlib.pyplot as plt\n",
    "from scipy.misc import derivative\n",
    "from tensorflow import keras\n",
    "\n",
    "plt.rcParams['figure.figsize'] = (5.0, 4.0) # set default size of plots\n",
    "plt.rcParams['image.interpolation'] = 'nearest'\n",
    "plt.rcParams['image.cmap'] = 'gray'"
   ]
  },
  {
   "cell_type": "code",
   "execution_count": 2,
   "id": "f33ae773",
   "metadata": {},
   "outputs": [],
   "source": [
    "def relu(z):\n",
    "    cache = z\n",
    "    A = np.maximum(0, z)\n",
    "    return A, cache\n",
    "                \n",
    "def relu_derivate(dA, activation_cache):\n",
    "    z=activation_cache \n",
    "    dZ = np.array(dA, copy=True)\n",
    "    dZ[z <= 0] = 0\n",
    "    return dZ"
   ]
  },
  {
   "cell_type": "code",
   "execution_count": 3,
   "id": "41935f17",
   "metadata": {},
   "outputs": [],
   "source": [
    "def sigmoid(z):\n",
    "    cache = z\n",
    "    A=1/(1+np.exp(-z))\n",
    "    return A, cache\n",
    "\n",
    "def sigmoid_derivate(dA, activation_cache):\n",
    "    z = activation_cache \n",
    "    s = 1/(1+np.exp(-z))\n",
    "    dZ = dA * s * (1-s)\n",
    "    return dZ\n",
    "\n",
    "\n",
    "def softmax(z):\n",
    "    cache=z\n",
    "    exps = np.exp(z - z.max())\n",
    "    sums = np.sum(exps)\n",
    "    \n",
    "    return np.divide(exps, sums)\n",
    "\n",
    "def softmax_derivate(dA, activation_cache):\n",
    "    z=activation_cache\n",
    "    dZ = Softmax(z)*np.sum((dA*(dA*softmax(z))), axis=1)\n",
    "    return dZ\n",
    "    "
   ]
  },
  {
   "cell_type": "code",
   "execution_count": 17,
   "id": "66cbe235",
   "metadata": {},
   "outputs": [],
   "source": [
    "def initialisation(dimension_layer):\n",
    "    parameters = {}\n",
    "    L = len(dimension_layer)\n",
    "    for l in range(1, L):\n",
    "        ####question pq W1.shape ==> (4,13)\n",
    "        parameters['W' + str(l)] = np.random.randn(dimension_layer[l], dimension_layer[l-1])*0.0251\n",
    "        parameters['b' + str(l)] = np.zeros((dimension_layer[l],1))\n",
    "    return parameters"
   ]
  },
  {
   "cell_type": "code",
   "execution_count": 18,
   "id": "88c4d3f9",
   "metadata": {},
   "outputs": [],
   "source": [
    "def lineaire_forward(A, W,b):\n",
    "    Z = np.dot(W,A)+b\n",
    "    assert(Z.shape == (W.shape[0], A.shape[1]))\n",
    "    \n",
    "    cache = (A, W, b)\n",
    "    \n",
    "    return Z, cache"
   ]
  },
  {
   "cell_type": "code",
   "execution_count": 19,
   "id": "5d2ad28f",
   "metadata": {},
   "outputs": [],
   "source": [
    "def linear_activation_forward(A_prev, W, b, activation):\n",
    "    \n",
    "    if activation == \"softmax\":\n",
    "        Z, linear_cache=lineaire_forward(A_prev,W,b)\n",
    "        A, activation_cache=softmax(Z)\n",
    "        \n",
    "    elif activation == \"relu\" :\n",
    "        Z, linear_cache = lineaire_forward(A_prev,W,b)\n",
    "        A, activation_cache=relu(Z)\n",
    "        \n",
    "    cache = (linear_cache, activation_cache)\n",
    "\n",
    "    return A, cache"
   ]
  },
  {
   "cell_type": "code",
   "execution_count": 20,
   "id": "491236b2",
   "metadata": {},
   "outputs": [],
   "source": [
    "def model_forward(X, parameters):\n",
    "    caches = []\n",
    "    A = X\n",
    "    L = len(parameters) // 2\n",
    "    \n",
    "    for l in range(1, L):\n",
    "        A_prev = A \n",
    "        A,cache = linear_activation_forward(A_prev, parameters['W' + str(l)], parameters['b'+str(l)], activation=\"relu\")\n",
    "        caches.append(cache)\n",
    "        \n",
    "    AL, cache = linear_activation_forward(A, parameters['W'+str(L)] , parameters['b'+str(L)], activation=\"sigmoid\")\n",
    "    \n",
    "    caches.append(cache)\n",
    "   \n",
    "    \n",
    "    return AL, caches"
   ]
  },
  {
   "cell_type": "code",
   "execution_count": 21,
   "id": "b8796e00",
   "metadata": {},
   "outputs": [],
   "source": [
    "def calcule_cost(AL, Y):\n",
    "    m = Y.shape[0]\n",
    "    cost=(-1/m) *np.sum((Y*np.log(AL)+(1-Y)*np.log(1-AL)))\n",
    "    cost = np.squeeze(cost)\n",
    "    return cost"
   ]
  },
  {
   "cell_type": "code",
   "execution_count": 22,
   "id": "1d3753c7",
   "metadata": {},
   "outputs": [],
   "source": [
    "def linear_backword(dZ, cache):\n",
    "    A_prev, W, b = cache\n",
    "    m = A_prev.shape[1]\n",
    "    \n",
    "    dW=1/m*(np.dot(dZ,A_prev.T))\n",
    "    db=1/m*(np.sum(dZ,axis=1,keepdims=True))\n",
    "    dA_prev=np.dot(W.T,dZ)\n",
    "    \n",
    "    return dA_prev, dW, db"
   ]
  },
  {
   "cell_type": "code",
   "execution_count": 23,
   "id": "9ab07d59",
   "metadata": {},
   "outputs": [],
   "source": [
    "def linear_activation_backward(dA, cache, activation):\n",
    "    \n",
    "    linear_cache, activation_cache= cache\n",
    "    \n",
    "    if activation == \"relu\":\n",
    "            \n",
    "        dZ=relu_derivate(dA,activation_cache)\n",
    "        dA_prev, dW, db = linear_backword(dZ, linear_cache)\n",
    "        \n",
    "        \n",
    "    elif activation == \"softmax\":\n",
    "\n",
    "        dZ=sigmoid_derivate(dA,activation_cache)\n",
    "        dA_prev, dW, db = softmax_derivate(dZ, linear_cache)\n",
    "        \n",
    "    return dA_prev, dW, db"
   ]
  },
  {
   "cell_type": "code",
   "execution_count": 24,
   "id": "eb0b1314",
   "metadata": {},
   "outputs": [],
   "source": [
    "def model_backward(AL, Y, caches):\n",
    "    \n",
    "    gradients = {}\n",
    "    L = len(caches) #le nombre des couches layers\n",
    "    m = AL.shape[1]\n",
    "    #Y = Y.reshape(AL.shape)\n",
    "    \n",
    "    dAL = - (np.divide(Y, AL+0.01) - np.divide(1 - Y, (1 - AL)+0.01))\n",
    "    \n",
    "    current_cache=caches[L-1]\n",
    "    \n",
    "    dA_prev, dW, db = linear_activation_backward(dAL, current_cache,activation=\"sigmoid\")\n",
    "    \n",
    "    gradients[\"dA\"+ str(L-1)]=dA_prev\n",
    "    gradients[\"dW\"+ str(L)]=dW\n",
    "    gradients[\"db\"+ str(L)]=db\n",
    "    \n",
    "    for l in reversed(range(L-1)):\n",
    "        \n",
    "        current_cache=caches[l]\n",
    "        dA_prev, dW, db = linear_activation_backward(gradients[\"dA\"+ str(l+1)], current_cache, activation = \"relu\")\n",
    "    \n",
    "        gradients[\"dA\"+ str(l)]=dA_prev\n",
    "        gradients[\"dW\"+ str(l+1)]=dW\n",
    "        gradients[\"db\"+ str(l+1)]=db\n",
    "    \n",
    "    return gradients"
   ]
  },
  {
   "cell_type": "code",
   "execution_count": 25,
   "id": "55b7577c",
   "metadata": {},
   "outputs": [],
   "source": [
    "def miseajours_poids(parameters, gradients, learning_rate=0.01):\n",
    "    \n",
    "    L = len(parameters) // 2\n",
    "    \n",
    "    for l in range(L):\n",
    "        parameters[\"W\"+ str(l+1)]=parameters[\"W\"+ str(l+1)]-learning_rate*gradients[\"dW\"+ str(l+1)]\n",
    "        parameters[\"b\"+ str(l+1)]=parameters[\"b\"+ str(l+1)]-learning_rate*gradients[\"db\"+ str(l+1)]\n",
    "\n",
    "    return parameters"
   ]
  },
  {
   "cell_type": "code",
   "execution_count": 26,
   "id": "417e0a27",
   "metadata": {},
   "outputs": [],
   "source": [
    "def modelpredict(X, parameters):\n",
    "    ypred, caches = model_forward(X, parameters)\n",
    "    return ypred"
   ]
  },
  {
   "cell_type": "code",
   "execution_count": 4,
   "id": "62b33254",
   "metadata": {},
   "outputs": [],
   "source": [
    "from sklearn.model_selection import train_test_split\n",
    "from sklearn import datasets\n",
    "iris=datasets.load_iris()\n",
    "\n",
    "\n",
    "xtrain, xtest, ytrain, ytest = train_test_split(iris.data, iris.target)\n",
    "\n",
    "\n",
    "ytraint=ytrain.reshape(112,1)\n",
    "ytest=ytest.reshape(38,1)"
   ]
  },
  {
   "cell_type": "code",
   "execution_count": null,
   "id": "e0901cbb",
   "metadata": {},
   "outputs": [],
   "source": []
  },
  {
   "cell_type": "code",
   "execution_count": null,
   "id": "5e3fd762",
   "metadata": {},
   "outputs": [],
   "source": []
  },
  {
   "cell_type": "code",
   "execution_count": null,
   "id": "e72a4242",
   "metadata": {},
   "outputs": [],
   "source": []
  },
  {
   "cell_type": "code",
   "execution_count": null,
   "id": "15091456",
   "metadata": {},
   "outputs": [],
   "source": []
  },
  {
   "cell_type": "code",
   "execution_count": null,
   "id": "4a8acc84",
   "metadata": {},
   "outputs": [],
   "source": []
  },
  {
   "cell_type": "code",
   "execution_count": 15,
   "id": "550b8441",
   "metadata": {},
   "outputs": [
    {
     "data": {
      "text/plain": [
       "0"
      ]
     },
     "execution_count": 15,
     "metadata": {},
     "output_type": "execute_result"
    }
   ],
   "source": [
    "ytrain[0]"
   ]
  },
  {
   "cell_type": "code",
   "execution_count": 22,
   "id": "984f643d",
   "metadata": {},
   "outputs": [],
   "source": [
    "ytrain=np.array(ytrain)\n",
    "\n",
    "y_train=list()\n",
    "\n",
    "for i in range(ytrain.shape[0]):\n",
    "        \n",
    "    if(ytrain[i]==0):\n",
    "        y_train.append(np.array([1, 0, 0]))\n",
    "        \n",
    "    elif(ytrain[i]==1):\n",
    "        y_train.append(np.array([0, 1, 0]))\n",
    "        \n",
    "    else:\n",
    "        y_train.append(np.array([0, 0, 1]))\n",
    "        \n",
    "y_train=np.array(y_train)\n",
    "        "
   ]
  },
  {
   "cell_type": "code",
   "execution_count": 28,
   "id": "ec1e44f4",
   "metadata": {},
   "outputs": [],
   "source": [
    "for i in range(500):\n",
    "    AL, caches = model_forward(xtrain, parameters)\n",
    "    gradients  = model_backward(AL, ytrain, caches)\n",
    "    parameters_updated = miseajours_poids(parameters, gradients, learning_rate=0.01)"
   ]
  },
  {
   "cell_type": "code",
   "execution_count": 26,
   "id": "62668973",
   "metadata": {},
   "outputs": [
    {
     "name": "stdout",
     "output_type": "stream",
     "text": [
      "cost =  -1.6133406715432912\n"
     ]
    }
   ],
   "source": [
    "######### prediction de Y par les parametre aléatoire :\n",
    "AL, caches = model_forward(xtrain, parameters_updated)\n",
    "\n",
    "##### verifier l'erreur combien :\n",
    "cout = calcule_cost(AL, ytrain)\n",
    "print(\"cost = \",cout )"
   ]
  },
  {
   "cell_type": "code",
   "execution_count": 359,
   "id": "a3a8f34b",
   "metadata": {},
   "outputs": [
    {
     "data": {
      "text/plain": [
       "array([6.8, 2.8, 4.8, 1.4])"
      ]
     },
     "execution_count": 359,
     "metadata": {},
     "output_type": "execute_result"
    }
   ],
   "source": [
    "xtrain[0]"
   ]
  },
  {
   "cell_type": "code",
   "execution_count": 327,
   "id": "ee256167",
   "metadata": {},
   "outputs": [],
   "source": [
    "ypred=modelpredict(xtest, parameters)"
   ]
  },
  {
   "cell_type": "code",
   "execution_count": 328,
   "id": "3fd525eb",
   "metadata": {},
   "outputs": [
    {
     "name": "stdout",
     "output_type": "stream",
     "text": [
      "cout test =  0.6931917468877367\n"
     ]
    }
   ],
   "source": [
    "cout_test=calcule_cost(ypred, ytest)\n",
    "print(\"cout test = \",cout_test )"
   ]
  },
  {
   "cell_type": "code",
   "execution_count": 337,
   "id": "2cb3d292",
   "metadata": {},
   "outputs": [],
   "source": [
    "ypred=modelpredict(xtest, parameters_updated)"
   ]
  },
  {
   "cell_type": "code",
   "execution_count": 338,
   "id": "f0c759b1",
   "metadata": {},
   "outputs": [
    {
     "name": "stdout",
     "output_type": "stream",
     "text": [
      "cout test =  nan\n"
     ]
    }
   ],
   "source": [
    "cout_test=calcule_cost(ypred, ytest)\n",
    "print(\"cout test = \",cout_test )"
   ]
  },
  {
   "cell_type": "code",
   "execution_count": 343,
   "id": "988f19ea",
   "metadata": {},
   "outputs": [
    {
     "data": {
      "text/plain": [
       "array([7.3, 2.9, 6.3, 1.8])"
      ]
     },
     "execution_count": 343,
     "metadata": {},
     "output_type": "execute_result"
    }
   ],
   "source": [
    "xtrain[0]"
   ]
  },
  {
   "cell_type": "code",
   "execution_count": 344,
   "id": "942e4a99",
   "metadata": {},
   "outputs": [
    {
     "data": {
      "text/plain": [
       "2"
      ]
     },
     "execution_count": 344,
     "metadata": {},
     "output_type": "execute_result"
    }
   ],
   "source": [
    "ytrain[0]"
   ]
  },
  {
   "cell_type": "code",
   "execution_count": null,
   "id": "4283bcac",
   "metadata": {},
   "outputs": [],
   "source": []
  },
  {
   "cell_type": "code",
   "execution_count": null,
   "id": "3f8c7149",
   "metadata": {},
   "outputs": [],
   "source": []
  },
  {
   "cell_type": "code",
   "execution_count": 331,
   "id": "93d9e799",
   "metadata": {},
   "outputs": [
    {
     "data": {
      "text/plain": [
       "9"
      ]
     },
     "execution_count": 331,
     "metadata": {},
     "output_type": "execute_result"
    }
   ],
   "source": [
    "len(gradients)"
   ]
  },
  {
   "cell_type": "code",
   "execution_count": 332,
   "id": "13522c13",
   "metadata": {},
   "outputs": [
    {
     "data": {
      "text/plain": [
       "6"
      ]
     },
     "execution_count": 332,
     "metadata": {},
     "output_type": "execute_result"
    }
   ],
   "source": [
    "len(parameters)"
   ]
  },
  {
   "cell_type": "code",
   "execution_count": 276,
   "id": "fa170e23",
   "metadata": {},
   "outputs": [
    {
     "data": {
      "text/plain": [
       "3"
      ]
     },
     "execution_count": 276,
     "metadata": {},
     "output_type": "execute_result"
    }
   ],
   "source": [
    "len(caches)"
   ]
  },
  {
   "cell_type": "code",
   "execution_count": null,
   "id": "336ab615",
   "metadata": {},
   "outputs": [],
   "source": []
  },
  {
   "cell_type": "code",
   "execution_count": null,
   "id": "24da4276",
   "metadata": {},
   "outputs": [],
   "source": []
  },
  {
   "cell_type": "code",
   "execution_count": null,
   "id": "33c7f842",
   "metadata": {},
   "outputs": [],
   "source": []
  },
  {
   "cell_type": "code",
   "execution_count": 118,
   "id": "26bc1bdd",
   "metadata": {},
   "outputs": [
    {
     "data": {
      "text/plain": [
       "(4, 112)"
      ]
     },
     "execution_count": 118,
     "metadata": {},
     "output_type": "execute_result"
    }
   ],
   "source": [
    "xtrain.shape"
   ]
  },
  {
   "cell_type": "code",
   "execution_count": 123,
   "id": "663c0ebd",
   "metadata": {},
   "outputs": [
    {
     "data": {
      "text/plain": [
       "(13, 13)"
      ]
     },
     "execution_count": 123,
     "metadata": {},
     "output_type": "execute_result"
    }
   ],
   "source": [
    "parameters['W2'].shape"
   ]
  },
  {
   "cell_type": "code",
   "execution_count": 125,
   "id": "bf1904d9",
   "metadata": {},
   "outputs": [
    {
     "data": {
      "text/plain": [
       "1"
      ]
     },
     "execution_count": 125,
     "metadata": {},
     "output_type": "execute_result"
    }
   ],
   "source": [
    "dimension_reseau[-1]"
   ]
  },
  {
   "cell_type": "code",
   "execution_count": null,
   "id": "b4c63d4d",
   "metadata": {},
   "outputs": [],
   "source": []
  }
 ],
 "metadata": {
  "kernelspec": {
   "display_name": "Python 3 (ipykernel)",
   "language": "python",
   "name": "python3"
  },
  "language_info": {
   "codemirror_mode": {
    "name": "ipython",
    "version": 3
   },
   "file_extension": ".py",
   "mimetype": "text/x-python",
   "name": "python",
   "nbconvert_exporter": "python",
   "pygments_lexer": "ipython3",
   "version": "3.9.7"
  }
 },
 "nbformat": 4,
 "nbformat_minor": 5
}
