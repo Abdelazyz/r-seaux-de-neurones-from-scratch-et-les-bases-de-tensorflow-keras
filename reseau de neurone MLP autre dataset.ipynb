{
 "cells": [
  {
   "cell_type": "markdown",
   "id": "64979231",
   "metadata": {},
   "source": [
    "## 1 - Packages"
   ]
  },
  {
   "cell_type": "code",
   "execution_count": 1,
   "id": "a822194c",
   "metadata": {},
   "outputs": [],
   "source": [
    "import numpy as np\n",
    "import h5py\n",
    "import matplotlib.pyplot as plt\n",
    "from scipy.misc import derivative\n",
    "import sklearn\n",
    "from sklearn import datasets\n",
    "import pandas as pd\n",
    "\n",
    "plt.rcParams['figure.figsize'] = (8.0, 8.0) # definit la taille de figure plot\n",
    "plt.rcParams['image.interpolation'] = 'nearest'\n",
    "plt.rcParams['image.cmap'] = 'gray'"
   ]
  },
  {
   "cell_type": "code",
   "execution_count": null,
   "id": "97e87056",
   "metadata": {},
   "outputs": [],
   "source": []
  },
  {
   "cell_type": "code",
   "execution_count": 82,
   "id": "f33ae773",
   "metadata": {},
   "outputs": [],
   "source": [
    "def relu(z):\n",
    "    cache = z\n",
    "    A = np.maximum(0, z)\n",
    "    return A, cache\n",
    "                \n",
    "def relu_derivate(dA, activation_cache):\n",
    "    z=activation_cache \n",
    "    dZ = np.array(dA, copy=True)\n",
    "    dZ[z <= 0] = 0\n",
    "    return dZ"
   ]
  },
  {
   "cell_type": "code",
   "execution_count": 83,
   "id": "41935f17",
   "metadata": {},
   "outputs": [],
   "source": [
    "def sigmoid(z):\n",
    "    cache = z\n",
    "    A=1/(1+np.exp(-z))\n",
    "    return A, cache\n",
    "\n",
    "def sigmoid_derivate(dA, activation_cache):\n",
    "    z = activation_cache \n",
    "    s = 1/(1+np.exp(-z))\n",
    "    dZ = dA * s * (1-s)\n",
    "    return dZ\n",
    "    "
   ]
  },
  {
   "cell_type": "code",
   "execution_count": 84,
   "id": "66cbe235",
   "metadata": {},
   "outputs": [],
   "source": [
    "def initialisation(dimension_layer):\n",
    "    parameters = {}\n",
    "    L = len(dimension_layer)\n",
    "    for l in range(1, L):\n",
    "        ####question pq W1.shape ==> (4,13)\n",
    "        parameters['W' + str(l)] = np.random.randn(dimension_layer[l], dimension_layer[l-1])*0.0251\n",
    "        parameters['b' + str(l)] = np.zeros((dimension_layer[l],1))\n",
    "    return parameters"
   ]
  },
  {
   "cell_type": "code",
   "execution_count": 85,
   "id": "88c4d3f9",
   "metadata": {},
   "outputs": [],
   "source": [
    "def lineaire_forward(A, W,b):\n",
    "    Z = np.dot(W,A) + b\n",
    "    \n",
    "    #assert(Z.shape == (W.shape[0], A.shape[1]))\n",
    "    \n",
    "    cache = (A, W, b)\n",
    "    \n",
    "    return Z, cache"
   ]
  },
  {
   "cell_type": "code",
   "execution_count": 86,
   "id": "5d2ad28f",
   "metadata": {},
   "outputs": [],
   "source": [
    "def linear_activation_forward(A_prev, W, b, activation):\n",
    "    \n",
    "    if activation == \"sigmoid\":\n",
    "        Z, linear_cache=lineaire_forward(A_prev,W,b)\n",
    "        A, activation_cache=sigmoid(Z)\n",
    "        \n",
    "    elif activation == \"relu\" :\n",
    "        Z, linear_cache = lineaire_forward(A_prev,W,b)\n",
    "        A, activation_cache=relu(Z)\n",
    "        \n",
    "    cache = (linear_cache, activation_cache)\n",
    "\n",
    "    return A, cache"
   ]
  },
  {
   "cell_type": "code",
   "execution_count": 87,
   "id": "491236b2",
   "metadata": {},
   "outputs": [],
   "source": [
    "def model_forward(X, parameters):\n",
    "    caches = []\n",
    "    A = X\n",
    "    L = len(parameters) // 2\n",
    "    \n",
    "    for l in range(1, L):\n",
    "        A_prev = A \n",
    "        A,cache = linear_activation_forward(A_prev, parameters['W' + str(l)], parameters['b'+str(l)], activation=\"relu\")\n",
    "        caches.append(cache)\n",
    "        \n",
    "    AL, cache = linear_activation_forward(A, parameters['W'+str(L)] , parameters['b'+str(L)], activation=\"sigmoid\")\n",
    "    \n",
    "    caches.append(cache)\n",
    "   \n",
    "    \n",
    "    return AL, caches"
   ]
  },
  {
   "cell_type": "code",
   "execution_count": 88,
   "id": "b8796e00",
   "metadata": {},
   "outputs": [],
   "source": [
    "def calcule_cost(AL, Y):\n",
    "    m = Y.shape[1]\n",
    "    \n",
    "    #cost = -1./m * np.sum(Y*np.log(AL+0.1)+(1-Y)*np.log(abs(1-AL)+0.1))\n",
    "    cost=(-1/m) * np.sum((Y*np.log(AL+0.1)+(1-Y)*np.log((1-AL)+0.1)))\n",
    "    \n",
    "    cost = np.squeeze(cost)\n",
    "    cost = abs(cost)\n",
    "    return cost"
   ]
  },
  {
   "cell_type": "code",
   "execution_count": 89,
   "id": "1d3753c7",
   "metadata": {},
   "outputs": [],
   "source": [
    "def linear_backword(dZ, cache):\n",
    "    A_prev, W, b = cache\n",
    "    m = A_prev.shape[1]\n",
    "    \n",
    "    dW=1./m*(np.dot(dZ,A_prev.T))\n",
    "    db=1./m*(np.sum(dZ, axis=1, keepdims=True))\n",
    "    dA_prev=np.dot(W.T,dZ)\n",
    "    \n",
    "    return dA_prev, dW, db"
   ]
  },
  {
   "cell_type": "code",
   "execution_count": 90,
   "id": "9ab07d59",
   "metadata": {},
   "outputs": [],
   "source": [
    "def linear_activation_backward(dA, cache, activation):\n",
    "    \n",
    "    linear_cache, activation_cache= cache\n",
    "    \n",
    "    if activation == \"relu\":\n",
    "            \n",
    "        dZ=relu_derivate(dA,activation_cache)\n",
    "        dA_prev, dW, db = linear_backword(dZ, linear_cache)\n",
    "        \n",
    "        \n",
    "    elif activation == \"sigmoid\":\n",
    "\n",
    "        dZ=sigmoid_derivate(dA,activation_cache)\n",
    "        dA_prev, dW, db = linear_backword(dZ, linear_cache)\n",
    "        \n",
    "    return dA_prev, dW, db"
   ]
  },
  {
   "cell_type": "code",
   "execution_count": 91,
   "id": "eb0b1314",
   "metadata": {},
   "outputs": [],
   "source": [
    "def model_backward(AL, Y, caches):\n",
    "    \n",
    "    gradients = {}\n",
    "    L = len(caches) #le nombre des couches layers\n",
    "    m = AL.shape[1]\n",
    "    #Y = Y.reshape(AL.shape)\n",
    "    \n",
    "    dAL = - (np.divide(Y, AL) - np.divide(1 - Y, (1 - AL)))\n",
    "    \n",
    "    current_cache=caches[L-1]\n",
    "    \n",
    "    dA_prev, dW, db = linear_activation_backward(dAL, current_cache,activation=\"sigmoid\")\n",
    "    \n",
    "    gradients[\"dA\"+ str(L-1)]=dA_prev\n",
    "    gradients[\"dW\"+ str(L)]=dW\n",
    "    gradients[\"db\"+ str(L)]=db\n",
    "    \n",
    "    for l in reversed(range(L-1)):\n",
    "        \n",
    "        current_cache=caches[l]\n",
    "        dA_prev, dW, db = linear_activation_backward(gradients[\"dA\"+ str(l+1)], current_cache, activation = \"relu\")\n",
    "    \n",
    "        gradients[\"dA\"+ str(l)]=dA_prev\n",
    "        gradients[\"dW\"+ str(l+1)]=dW\n",
    "        gradients[\"db\"+ str(l+1)]=db\n",
    "    \n",
    "    return gradients"
   ]
  },
  {
   "cell_type": "code",
   "execution_count": 92,
   "id": "55b7577c",
   "metadata": {},
   "outputs": [],
   "source": [
    "## n'est pas utilisé :\n",
    "\n",
    "def miseajours_poids(parameters, gradients, learning_rate):\n",
    "    \n",
    "    L = len(parameters) // 2\n",
    "    \n",
    "    for l in range(L):\n",
    "        parameters[\"W\"+ str(l+1)]=parameters[\"W\"+ str(l+1)]-learning_rate*gradients[\"dW\"+ str(l+1)]\n",
    "        parameters[\"b\"+ str(l+1)]=parameters[\"b\"+ str(l+1)]-learning_rate*gradients[\"db\"+ str(l+1)]\n",
    "\n",
    "    return parameters"
   ]
  },
  {
   "cell_type": "code",
   "execution_count": 93,
   "id": "417e0a27",
   "metadata": {},
   "outputs": [],
   "source": [
    "def Modelgenerale(X, Y, dimension_layer, learning_rate = 0.075, num_iterations = 10000):\n",
    "    parameters=initialisation(dimension_layer)\n",
    "    costs = []\n",
    "    \n",
    "    for i in range(0, num_iterations):\n",
    "        \n",
    "        AL, caches = model_forward(X, parameters)\n",
    "        cout = calcule_cost(AL, Y)\n",
    "        \n",
    "        if i % 1000 == 0:\n",
    "            costs.append(cout)\n",
    "        \n",
    "        gradients=model_backward(AL, Y, caches)\n",
    "        parameters=miseajours_poids(parameters, gradients, learning_rate)\n",
    "                 \n",
    "    return parameters, costs"
   ]
  },
  {
   "cell_type": "code",
   "execution_count": 94,
   "id": "3522948e",
   "metadata": {},
   "outputs": [],
   "source": [
    "def Modelpredict(X, parameters):\n",
    "    m = X.shape[1]\n",
    "\n",
    "    # number of layers in the neural network\n",
    "    n = len(parameters) // 2\n",
    "    p = np.zeros((1,m))\n",
    "    \n",
    "    probas, caches = model_forward(X, parameters)\n",
    "\n",
    "    # convert probas to 0/1 predictions\n",
    "    for i in range(0, probas.shape[1]):\n",
    "        if probas[0,i] > 0.5:\n",
    "            p[0,i] = 1\n",
    "        else:\n",
    "            p[0,i] = 0   \n",
    "        \n",
    "    return p"
   ]
  },
  {
   "cell_type": "markdown",
   "id": "0df030ca",
   "metadata": {},
   "source": [
    "## DataSet BREAST_CANCER"
   ]
  },
  {
   "cell_type": "code",
   "execution_count": 95,
   "id": "82cc7620",
   "metadata": {},
   "outputs": [],
   "source": [
    "from sklearn.datasets import load_breast_cancer"
   ]
  },
  {
   "cell_type": "code",
   "execution_count": 96,
   "id": "3c100294",
   "metadata": {},
   "outputs": [],
   "source": [
    "cancer = load_breast_cancer()"
   ]
  },
  {
   "cell_type": "code",
   "execution_count": 97,
   "id": "a07a883e",
   "metadata": {},
   "outputs": [],
   "source": [
    "df = pd.DataFrame(cancer.data, columns = [cancer.feature_names])\n",
    "df['target']= pd.Series(data=cancer.target, index=df.index)"
   ]
  },
  {
   "cell_type": "code",
   "execution_count": 98,
   "id": "8dd92f30",
   "metadata": {},
   "outputs": [],
   "source": [
    "x=df.iloc[0:,0:30]\n",
    "y=df['target']"
   ]
  },
  {
   "cell_type": "code",
   "execution_count": 99,
   "id": "15d1cf8b",
   "metadata": {},
   "outputs": [],
   "source": [
    "from sklearn.model_selection import train_test_split\n",
    "\n",
    "x_train, x_test, y_train, y_test=train_test_split(x,y,train_size=426,test_size=143)\n"
   ]
  },
  {
   "cell_type": "code",
   "execution_count": 100,
   "id": "013db58a",
   "metadata": {},
   "outputs": [],
   "source": [
    "x_train=x_train.T\n",
    "y_train=y_train.T\n",
    "\n",
    "x_test=x_test.T\n",
    "y_test=y_test.T"
   ]
  },
  {
   "cell_type": "code",
   "execution_count": 101,
   "id": "e66de4d8",
   "metadata": {},
   "outputs": [],
   "source": [
    "x_train=x_train.to_numpy()\n",
    "y_train=y_train.to_numpy()\n",
    "x_test= x_test.to_numpy()\n",
    "y_test=y_test.to_numpy()"
   ]
  },
  {
   "cell_type": "code",
   "execution_count": 102,
   "id": "e0901cbb",
   "metadata": {},
   "outputs": [],
   "source": [
    "layers_dims = [30, 10, 5, 1]\n",
    "\n",
    "parameters, cousts = Modelgenerale(x_train, y_train, layers_dims, learning_rate = 0.2, num_iterations = 15000)"
   ]
  },
  {
   "cell_type": "code",
   "execution_count": 103,
   "id": "8deb38cb",
   "metadata": {},
   "outputs": [
    {
     "data": {
      "text/plain": [
       "[0.5108256237659906,\n",
       " 0.4743736234977778,\n",
       " 0.4743736234977778,\n",
       " 0.4743736234977778,\n",
       " 0.4743736234977778,\n",
       " 0.4743736234977778,\n",
       " 0.4743736234977778,\n",
       " 0.4743736234977778,\n",
       " 0.4743736234977778,\n",
       " 0.4743736234977778,\n",
       " 0.4743736234977778,\n",
       " 0.4743736234977778,\n",
       " 0.4743736234977778,\n",
       " 0.4743736234977778,\n",
       " 0.4743736234977778]"
      ]
     },
     "execution_count": 103,
     "metadata": {},
     "output_type": "execute_result"
    }
   ],
   "source": [
    "cousts"
   ]
  },
  {
   "cell_type": "code",
   "execution_count": 104,
   "id": "93a09f34",
   "metadata": {},
   "outputs": [
    {
     "data": {
      "text/plain": [
       "(1, 143)"
      ]
     },
     "execution_count": 104,
     "metadata": {},
     "output_type": "execute_result"
    }
   ],
   "source": [
    "y_test.shape"
   ]
  },
  {
   "cell_type": "code",
   "execution_count": 105,
   "id": "bec97d69",
   "metadata": {},
   "outputs": [],
   "source": [
    "ypred = Modelpredict(x_test, parameters)"
   ]
  },
  {
   "cell_type": "code",
   "execution_count": 106,
   "id": "2c5c25fd",
   "metadata": {},
   "outputs": [
    {
     "data": {
      "text/plain": [
       "array([[1., 1., 1., 1., 1., 1., 1., 1., 1., 1., 1., 1., 1., 1., 1., 1.,\n",
       "        1., 1., 1., 1., 1., 1., 1., 1., 1., 1., 1., 1., 1., 1., 1., 1.,\n",
       "        1., 1., 1., 1., 1., 1., 1., 1., 1., 1., 1., 1., 1., 1., 1., 1.,\n",
       "        1., 1., 1., 1., 1., 1., 1., 1., 1., 1., 1., 1., 1., 1., 1., 1.,\n",
       "        1., 1., 1., 1., 1., 1., 1., 1., 1., 1., 1., 1., 1., 1., 1., 1.,\n",
       "        1., 1., 1., 1., 1., 1., 1., 1., 1., 1., 1., 1., 1., 1., 1., 1.,\n",
       "        1., 1., 1., 1., 1., 1., 1., 1., 1., 1., 1., 1., 1., 1., 1., 1.,\n",
       "        1., 1., 1., 1., 1., 1., 1., 1., 1., 1., 1., 1., 1., 1., 1., 1.,\n",
       "        1., 1., 1., 1., 1., 1., 1., 1., 1., 1., 1., 1., 1., 1., 1.]])"
      ]
     },
     "execution_count": 106,
     "metadata": {},
     "output_type": "execute_result"
    }
   ],
   "source": [
    "ypred"
   ]
  },
  {
   "cell_type": "code",
   "execution_count": 107,
   "id": "b4c63d4d",
   "metadata": {},
   "outputs": [
    {
     "data": {
      "text/plain": [
       "array([[1, 1, 0, 1, 1, 1, 0, 1, 1, 0, 1, 1, 0, 1, 1, 1, 1, 0, 1, 0, 1, 1,\n",
       "        1, 1, 0, 1, 1, 1, 1, 1, 0, 1, 0, 0, 1, 1, 0, 0, 0, 1, 0, 0, 0, 1,\n",
       "        1, 1, 0, 1, 1, 0, 0, 1, 0, 0, 0, 1, 1, 1, 1, 1, 0, 0, 0, 1, 0, 0,\n",
       "        0, 0, 0, 1, 1, 0, 1, 1, 1, 0, 1, 1, 1, 1, 0, 0, 1, 1, 1, 0, 0, 1,\n",
       "        1, 1, 0, 1, 1, 1, 1, 1, 1, 0, 0, 1, 1, 0, 0, 1, 0, 0, 0, 1, 0, 1,\n",
       "        1, 1, 0, 1, 1, 1, 0, 1, 0, 0, 0, 1, 0, 1, 0, 1, 0, 1, 1, 0, 1, 1,\n",
       "        1, 1, 0, 0, 1, 0, 1, 1, 1, 1, 1]])"
      ]
     },
     "execution_count": 107,
     "metadata": {},
     "output_type": "execute_result"
    }
   ],
   "source": [
    "y_test"
   ]
  },
  {
   "cell_type": "code",
   "execution_count": 108,
   "id": "33b8ab69",
   "metadata": {},
   "outputs": [
    {
     "data": {
      "text/plain": [
       "0.8604942296327875"
      ]
     },
     "execution_count": 108,
     "metadata": {},
     "output_type": "execute_result"
    }
   ],
   "source": [
    "c=calcule_cost(ypred, y_test)\n",
    "c"
   ]
  },
  {
   "cell_type": "markdown",
   "id": "0df9a0c2",
   "metadata": {},
   "source": [
    "## /-  Other dataset generer : Par make_classification en Sklearn"
   ]
  },
  {
   "cell_type": "code",
   "execution_count": 144,
   "id": "d3caf5bd",
   "metadata": {},
   "outputs": [],
   "source": [
    "from sklearn.datasets import make_classification"
   ]
  },
  {
   "cell_type": "code",
   "execution_count": 156,
   "id": "1b0ed294",
   "metadata": {},
   "outputs": [],
   "source": [
    "x, y = make_classification(n_samples=100,n_features=10, random_state=1)"
   ]
  },
  {
   "cell_type": "code",
   "execution_count": 157,
   "id": "9dc50ce6",
   "metadata": {},
   "outputs": [],
   "source": [
    "xtrain, xtest, ytrain, ytest = train_test_split(x, y, stratify=y, random_state=0)\n",
    "\n",
    "xtrain=xtrain.T\n",
    "xtest=xtest.T\n",
    "\n",
    "ytrain=np.array(ytrain).reshape(1, ytrain.shape[0])\n",
    "ytest=np.array(ytest).reshape(1, ytest.shape[0])"
   ]
  },
  {
   "cell_type": "code",
   "execution_count": 158,
   "id": "f451b701",
   "metadata": {},
   "outputs": [],
   "source": [
    "layers_dims = [10, 10, 5, 1]\n",
    "\n",
    "parameters, cousts = Modelgenerale(xtrain, ytrain, layers_dims, learning_rate = 0.2, num_iterations = 6000)"
   ]
  },
  {
   "cell_type": "code",
   "execution_count": 159,
   "id": "866c3ec3",
   "metadata": {},
   "outputs": [],
   "source": [
    "ypred=Modelpredict(xtest, parameters)"
   ]
  },
  {
   "cell_type": "code",
   "execution_count": 160,
   "id": "77c02bc4",
   "metadata": {},
   "outputs": [
    {
     "data": {
      "text/plain": [
       "[0.5108154675507628,\n",
       " 0.09354957487911296,\n",
       " 0.09491584886592298,\n",
       " 0.09510151774358976,\n",
       " 0.09517311504159477,\n",
       " 0.0952098726660649]"
      ]
     },
     "execution_count": 160,
     "metadata": {},
     "output_type": "execute_result"
    }
   ],
   "source": [
    "cousts"
   ]
  },
  {
   "cell_type": "code",
   "execution_count": 161,
   "id": "0b561ab4",
   "metadata": {},
   "outputs": [
    {
     "data": {
      "text/plain": [
       "(1, 25)"
      ]
     },
     "execution_count": 161,
     "metadata": {},
     "output_type": "execute_result"
    }
   ],
   "source": [
    "ytest.shape"
   ]
  },
  {
   "cell_type": "code",
   "execution_count": 162,
   "id": "95846ffe",
   "metadata": {},
   "outputs": [],
   "source": [
    "costtest=calcule_cost(ypred, ytest)"
   ]
  },
  {
   "cell_type": "code",
   "execution_count": 163,
   "id": "9930ed3b",
   "metadata": {},
   "outputs": [
    {
     "data": {
      "text/plain": [
       "0.09652144201954471"
      ]
     },
     "execution_count": 163,
     "metadata": {},
     "output_type": "execute_result"
    }
   ],
   "source": [
    "costtest"
   ]
  },
  {
   "cell_type": "code",
   "execution_count": 164,
   "id": "3a24a674",
   "metadata": {},
   "outputs": [
    {
     "data": {
      "text/plain": [
       "array([[1., 1., 0., 1., 0., 1., 0., 1., 0., 1., 1., 0., 0., 1., 1., 0.,\n",
       "        1., 1., 0., 0., 0., 0., 1., 1., 1.]])"
      ]
     },
     "execution_count": 164,
     "metadata": {},
     "output_type": "execute_result"
    }
   ],
   "source": [
    "ypred"
   ]
  },
  {
   "cell_type": "code",
   "execution_count": 166,
   "id": "79f6cb85",
   "metadata": {},
   "outputs": [
    {
     "data": {
      "text/plain": [
       "array([[1, 1, 0, 0, 0, 1, 0, 1, 0, 1, 1, 0, 0, 1, 1, 0, 1, 0, 0, 0, 0, 0,\n",
       "        1, 1, 1]])"
      ]
     },
     "execution_count": 166,
     "metadata": {},
     "output_type": "execute_result"
    }
   ],
   "source": [
    "ytest"
   ]
  },
  {
   "cell_type": "code",
   "execution_count": 167,
   "id": "96f4cec4",
   "metadata": {},
   "outputs": [
    {
     "data": {
      "text/plain": [
       "array([[0., 0., 0., 1., 0., 0., 0., 0., 0., 0., 0., 0., 0., 0., 0., 0.,\n",
       "        0., 1., 0., 0., 0., 0., 0., 0., 0.]])"
      ]
     },
     "execution_count": 167,
     "metadata": {},
     "output_type": "execute_result"
    }
   ],
   "source": [
    "np.abs(ytest-ypred)"
   ]
  },
  {
   "cell_type": "markdown",
   "id": "c20fce87",
   "metadata": {},
   "source": [
    "# Génerer autre dataSet par make_blobs"
   ]
  },
  {
   "cell_type": "code",
   "execution_count": 135,
   "id": "80df0e0f",
   "metadata": {},
   "outputs": [],
   "source": [
    "from sklearn.datasets import make_blobs\n",
    "X, Y = make_blobs(n_samples=500, centers=2, n_features=2)"
   ]
  },
  {
   "cell_type": "code",
   "execution_count": 136,
   "id": "4cc815d2",
   "metadata": {},
   "outputs": [
    {
     "data": {
      "text/plain": [
       "<matplotlib.collections.PathCollection at 0x2367811df40>"
      ]
     },
     "execution_count": 136,
     "metadata": {},
     "output_type": "execute_result"
    },
    {
     "data": {
      "image/png": "[encoded data removed]",
      "text/plain": [
       "<Figure size 576x576 with 1 Axes>"
      ]
     },
     "metadata": {
      "needs_background": "light"
     },
     "output_type": "display_data"
    }
   ],
   "source": [
    "plt.scatter(X[:, 0], X[:, 1], c=Y, cmap='viridis')"
   ]
  },
  {
   "cell_type": "code",
   "execution_count": 137,
   "id": "304f11f0",
   "metadata": {},
   "outputs": [],
   "source": [
    "xtrain, xtest, ytrain, ytest = train_test_split(X, Y, stratify=Y, random_state=1)"
   ]
  },
  {
   "cell_type": "code",
   "execution_count": 138,
   "id": "e1a5037e",
   "metadata": {},
   "outputs": [],
   "source": [
    "xtrain=xtrain.T\n",
    "xtest=xtest.T\n",
    "\n",
    "ytrain=np.array(ytrain).reshape(1, ytrain.shape[0])\n",
    "ytest=np.array(ytest).reshape(1, ytest.shape[0])"
   ]
  },
  {
   "cell_type": "code",
   "execution_count": 139,
   "id": "317ff6b9",
   "metadata": {},
   "outputs": [],
   "source": [
    "layers_dims = [2, 5,5, 1]\n",
    "\n",
    "parameters, cousts = Modelgenerale(xtrain, ytrain, layers_dims, learning_rate = 0.2, num_iterations = 6000)"
   ]
  },
  {
   "cell_type": "code",
   "execution_count": 140,
   "id": "8413a0fd",
   "metadata": {},
   "outputs": [],
   "source": [
    "ypred=Modelpredict(xtest, parameters)"
   ]
  },
  {
   "cell_type": "code",
   "execution_count": 141,
   "id": "6bd8530a",
   "metadata": {},
   "outputs": [
    {
     "data": {
      "text/plain": [
       "array([[1., 1., 0., 1., 1., 1., 1., 1., 0., 0., 0., 0., 0., 1., 0., 0.,\n",
       "        1., 1., 1., 1., 0., 0., 0., 1., 0., 0., 0., 1., 0., 0., 1., 1.,\n",
       "        1., 0., 0., 0., 1., 1., 1., 1., 0., 0., 0., 1., 0., 1., 0., 1.,\n",
       "        0., 0., 1., 1., 0., 0., 1., 0., 0., 0., 0., 0., 1., 0., 0., 0.,\n",
       "        1., 1., 1., 1., 1., 0., 0., 1., 1., 1., 1., 0., 0., 1., 1., 1.,\n",
       "        0., 0., 1., 0., 1., 1., 0., 0., 1., 1., 1., 1., 1., 1., 0., 1.,\n",
       "        0., 0., 1., 1., 0., 0., 0., 0., 0., 0., 0., 0., 0., 0., 0., 0.,\n",
       "        1., 1., 0., 0., 0., 0., 1., 0., 0., 1., 1., 1., 0.]])"
      ]
     },
     "execution_count": 141,
     "metadata": {},
     "output_type": "execute_result"
    }
   ],
   "source": [
    "ypred"
   ]
  },
  {
   "cell_type": "code",
   "execution_count": 142,
   "id": "d15db5ce",
   "metadata": {},
   "outputs": [
    {
     "data": {
      "text/plain": [
       "0.15407092856670557"
      ]
     },
     "execution_count": 142,
     "metadata": {},
     "output_type": "execute_result"
    }
   ],
   "source": [
    "calcule_cost(ypred, ytest)"
   ]
  },
  {
   "cell_type": "code",
   "execution_count": null,
   "id": "86f2bec3",
   "metadata": {},
   "outputs": [],
   "source": []
  }
 ],
 "metadata": {
  "kernelspec": {
   "display_name": "Python 3 (ipykernel)",
   "language": "python",
   "name": "python3"
  },
  "language_info": {
   "codemirror_mode": {
    "name": "ipython",
    "version": 3
   },
   "file_extension": ".py",
   "mimetype": "text/x-python",
   "name": "python",
   "nbconvert_exporter": "python",
   "pygments_lexer": "ipython3",
   "version": "3.9.7"
  }
 },
 "nbformat": 4,
 "nbformat_minor": 5
}
