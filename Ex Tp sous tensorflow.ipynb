{
 "cells": [
  {
   "cell_type": "markdown",
   "id": "54002a55",
   "metadata": {},
   "source": [
    "## Fashion Mnist, with CNN"
   ]
  },
  {
   "cell_type": "code",
   "execution_count": 2,
   "id": "7ad39ce3",
   "metadata": {},
   "outputs": [],
   "source": [
    "import numpy\n",
    "import tensorflow as tf\n",
    "import numpy as np\n",
    "from keras.datasets import imdb\n",
    "from keras.layers import LSTM\n",
    "from keras.layers.embeddings import Embedding\n",
    "from keras.preprocessing import sequence\n",
    "from tensorflow.keras.datasets import fashion_mnist\n",
    "from keras import layers\n",
    "from tensorflow import keras"
   ]
  },
  {
   "cell_type": "code",
   "execution_count": 3,
   "id": "c65122f9",
   "metadata": {},
   "outputs": [
    {
     "data": {
      "text/plain": [
       "'2.8.0'"
      ]
     },
     "execution_count": 3,
     "metadata": {},
     "output_type": "execute_result"
    }
   ],
   "source": [
    "tf.__version__"
   ]
  },
  {
   "cell_type": "code",
   "execution_count": 4,
   "id": "5e75d473",
   "metadata": {},
   "outputs": [],
   "source": [
    "(X_train, Y_train), (X_test, Y_test) = fashion_mnist.load_data()"
   ]
  },
  {
   "cell_type": "code",
   "execution_count": 5,
   "id": "56ab1b61",
   "metadata": {},
   "outputs": [],
   "source": [
    "X_train = X_train.reshape(X_train.shape[0], X_train.shape[1], X_train.shape[2], 1)"
   ]
  },
  {
   "cell_type": "code",
   "execution_count": 6,
   "id": "8d78a1be",
   "metadata": {},
   "outputs": [],
   "source": [
    "X_test = X_test.reshape(X_test.shape[0], X_test.shape[1], X_test.shape[2], 1)"
   ]
  },
  {
   "cell_type": "code",
   "execution_count": 7,
   "id": "858711ed",
   "metadata": {},
   "outputs": [
    {
     "data": {
      "text/plain": [
       "(60000, 28, 28, 1)"
      ]
     },
     "execution_count": 7,
     "metadata": {},
     "output_type": "execute_result"
    }
   ],
   "source": [
    "X_train.shape"
   ]
  },
  {
   "cell_type": "code",
   "execution_count": 8,
   "id": "cef9a667",
   "metadata": {},
   "outputs": [],
   "source": [
    "Y_train = keras.utils.to_categorical(Y_train,10)\n",
    "Y_test  = keras.utils.to_categorical(Y_test, 10)"
   ]
  },
  {
   "cell_type": "code",
   "execution_count": 9,
   "id": "34a16256",
   "metadata": {},
   "outputs": [],
   "source": [
    "epocs = 10\n",
    "learning_rate = 0.001\n",
    "batch_size = 64"
   ]
  },
  {
   "cell_type": "code",
   "execution_count": 10,
   "id": "3f80ddd1",
   "metadata": {},
   "outputs": [],
   "source": [
    "#(img shape: 28*28)\n",
    "n_input = 28\n",
    "\n",
    "#classes (0-9 digits)\n",
    "n_classes = 10"
   ]
  },
  {
   "cell_type": "code",
   "execution_count": 11,
   "id": "35d0ce9e",
   "metadata": {},
   "outputs": [],
   "source": [
    "def conv2d(x,w):\n",
    "    weights=tf.Variable(tf.random.normal(w))\n",
    "    return tf.nn.relu(tf.nn.conv2d(x,weights,[1,1,1,1],padding='SAME'))\n",
    "\n",
    "def max_pool(x,k):\n",
    "    return tf.nn.max_pool(x,k,[1,2,2,1],padding='SAME')\n",
    "\n",
    "def fully_connected(x,size):\n",
    "    weights=tf.Variable(tf.random.normal([int(x.get_shape()[1]),size],mean=0,stddev=1))\n",
    "    return tf.matmul(x,weights)"
   ]
  },
  {
   "cell_type": "code",
   "execution_count": 26,
   "id": "1a1e4ca7",
   "metadata": {},
   "outputs": [],
   "source": [
    "#tf.compat.v1.reset_default_graph()\n",
    "\n",
    "with tf.compat.v1.Session() as sess:\n",
    "    inp=tf.compat.v1.placeholder(tf.float32,shape=(None,28,28,1),name='input')\n",
    "    target=tf.compat.v1.placeholder(tf.float32,shape=(None,10),name='target')\n",
    "    \n",
    "    inpt=X_train\n",
    "    target=Y_train\n",
    "\n",
    "    l1=conv2d(inp,[5,5,1,28])\n",
    "    l2=max_pool(l1,[1,2,2,1])\n",
    "\n",
    "    l3=conv2d(l2,[5,5,28,64])\n",
    "    l4=max_pool(l3,[1,2,2,1])\n",
    "\n",
    "    l5=tf.reshape(l4,[-1,7*7*64])\n",
    "    l6=fully_connected(l5,10)\n",
    "\n",
    "    cost=tf.reduce_mean(tf.nn.softmax_cross_entropy_with_logits(labels=target,logits=l6))\n",
    "    \n",
    "    opt=tf.compat.v1.train.AdamOptimizer(0.005).minimize(cost)\n",
    "\n",
    "    prediction=tf.argmax(l6,1)\n",
    "\n",
    "    result=tf.equal(tf.argmax(l6,1),tf.argmax(target,1))\n",
    "\n",
    "    accuracy=tf.reduce_mean(tf.cast(result,tf.float32))\n",
    "    "
   ]
  },
  {
   "cell_type": "code",
   "execution_count": null,
   "id": "3b4d2fef",
   "metadata": {},
   "outputs": [],
   "source": [
    "with tf.compat.v1.Session() as sess:\n",
    "    "
   ]
  },
  {
   "cell_type": "code",
   "execution_count": null,
   "id": "8d55ac28",
   "metadata": {},
   "outputs": [],
   "source": []
  },
  {
   "cell_type": "code",
   "execution_count": null,
   "id": "ef9adbf6",
   "metadata": {},
   "outputs": [],
   "source": []
  },
  {
   "cell_type": "code",
   "execution_count": null,
   "id": "868e76df",
   "metadata": {},
   "outputs": [],
   "source": []
  }
 ],
 "metadata": {
  "kernelspec": {
   "display_name": "Python 3 (ipykernel)",
   "language": "python",
   "name": "python3"
  },
  "language_info": {
   "codemirror_mode": {
    "name": "ipython",
    "version": 3
   },
   "file_extension": ".py",
   "mimetype": "text/x-python",
   "name": "python",
   "nbconvert_exporter": "python",
   "pygments_lexer": "ipython3",
   "version": "3.9.7"
  }
 },
 "nbformat": 4,
 "nbformat_minor": 5
}
